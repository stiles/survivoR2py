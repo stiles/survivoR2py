{
 "cells": [
  {
   "cell_type": "markdown",
   "id": "0fdd4e16-e062-4146-9c40-05a340ecc972",
   "metadata": {},
   "source": [
    "# Castaways\n",
    "> Make a list of votes to aid in vote offs collection.  "
   ]
  },
  {
   "cell_type": "markdown",
   "id": "2cd6a4cf-3892-4cc9-97de-84f87dc86d7d",
   "metadata": {},
   "source": [
    "#### Load Python tools and Jupyter config"
   ]
  },
  {
   "cell_type": "code",
   "execution_count": 1,
   "id": "4e19f39a-7be0-4b71-a789-f08da806946d",
   "metadata": {},
   "outputs": [],
   "source": [
    "import json\n",
    "import requests\n",
    "import pandas as pd\n",
    "import jupyter_black\n",
    "import altair as alt"
   ]
  },
  {
   "cell_type": "code",
   "execution_count": 2,
   "id": "daa1430b-ced1-4480-95b0-2aabaf9b0ae3",
   "metadata": {},
   "outputs": [
    {
     "data": {
      "text/html": [
       "\n",
       "                <script type=\"application/javascript\" id=\"jupyter_black\">\n",
       "                (function() {\n",
       "                    if (window.IPython === undefined) {\n",
       "                        return\n",
       "                    }\n",
       "                    var msg = \"WARNING: it looks like you might have loaded \" +\n",
       "                        \"jupyter_black in a non-lab notebook with \" +\n",
       "                        \"`is_lab=True`. Please double check, and if \" +\n",
       "                        \"loading with `%load_ext` please review the README!\"\n",
       "                    console.log(msg)\n",
       "                    alert(msg)\n",
       "                })()\n",
       "                </script>\n",
       "                "
      ],
      "text/plain": [
       "<IPython.core.display.HTML object>"
      ]
     },
     "metadata": {},
     "output_type": "display_data"
    }
   ],
   "source": [
    "jupyter_black.load()\n",
    "pd.options.display.max_columns = 100\n",
    "pd.options.display.max_rows = 1000"
   ]
  },
  {
   "cell_type": "code",
   "execution_count": 3,
   "id": "38e657d1-fe82-4a06-b0f2-b9b881adef9b",
   "metadata": {},
   "outputs": [],
   "source": [
    "today = pd.Timestamp(\"today\").strftime(\"%Y-%m-%d\")"
   ]
  },
  {
   "cell_type": "markdown",
   "id": "d9ec1603-0bda-4d46-a251-1c50f137d197",
   "metadata": {},
   "source": [
    "---"
   ]
  },
  {
   "cell_type": "markdown",
   "id": "3bbfd20b-7936-4f21-a091-697fca808ab1",
   "metadata": {},
   "source": [
    "## Read data"
   ]
  },
  {
   "cell_type": "code",
   "execution_count": 4,
   "id": "a6e7fe23",
   "metadata": {},
   "outputs": [],
   "source": [
    "src = pd.read_csv(\"../data/raw/csv/vote_history.csv\")"
   ]
  },
  {
   "cell_type": "code",
   "execution_count": 5,
   "id": "5c154dab",
   "metadata": {},
   "outputs": [],
   "source": [
    "seasons = [1, 7, 11, 40, 43, 44, 45, 46]"
   ]
  },
  {
   "cell_type": "code",
   "execution_count": 6,
   "id": "586d2b55",
   "metadata": {},
   "outputs": [
    {
     "data": {
      "text/html": [
       "<div>\n",
       "<style scoped>\n",
       "    .dataframe tbody tr th:only-of-type {\n",
       "        vertical-align: middle;\n",
       "    }\n",
       "\n",
       "    .dataframe tbody tr th {\n",
       "        vertical-align: top;\n",
       "    }\n",
       "\n",
       "    .dataframe thead th {\n",
       "        text-align: right;\n",
       "    }\n",
       "</style>\n",
       "<table border=\"1\" class=\"dataframe\">\n",
       "  <thead>\n",
       "    <tr style=\"text-align: right;\">\n",
       "      <th></th>\n",
       "      <th>version</th>\n",
       "      <th>version_season</th>\n",
       "      <th>season_name</th>\n",
       "      <th>season</th>\n",
       "      <th>episode</th>\n",
       "      <th>day</th>\n",
       "      <th>tribe_status</th>\n",
       "      <th>tribe</th>\n",
       "      <th>castaway</th>\n",
       "      <th>immunity</th>\n",
       "      <th>vote</th>\n",
       "      <th>vote_event</th>\n",
       "      <th>vote_event_outcome</th>\n",
       "      <th>split_vote</th>\n",
       "      <th>nullified</th>\n",
       "      <th>tie</th>\n",
       "      <th>voted_out</th>\n",
       "      <th>order</th>\n",
       "      <th>vote_order</th>\n",
       "      <th>castaway_id</th>\n",
       "      <th>vote_id</th>\n",
       "      <th>voted_out_id</th>\n",
       "    </tr>\n",
       "  </thead>\n",
       "  <tbody>\n",
       "    <tr>\n",
       "      <th>0</th>\n",
       "      <td>US</td>\n",
       "      <td>US01</td>\n",
       "      <td>Survivor: Borneo</td>\n",
       "      <td>1.0</td>\n",
       "      <td>1.0</td>\n",
       "      <td>3.0</td>\n",
       "      <td>Original</td>\n",
       "      <td>Tagi</td>\n",
       "      <td>Sonja</td>\n",
       "      <td>NaN</td>\n",
       "      <td>Rudy</td>\n",
       "      <td>NaN</td>\n",
       "      <td>NaN</td>\n",
       "      <td>NaN</td>\n",
       "      <td>False</td>\n",
       "      <td>False</td>\n",
       "      <td>Sonja</td>\n",
       "      <td>1.0</td>\n",
       "      <td>1.0</td>\n",
       "      <td>US0001</td>\n",
       "      <td>US0014</td>\n",
       "      <td>US0001</td>\n",
       "    </tr>\n",
       "    <tr>\n",
       "      <th>1</th>\n",
       "      <td>US</td>\n",
       "      <td>US01</td>\n",
       "      <td>Survivor: Borneo</td>\n",
       "      <td>1.0</td>\n",
       "      <td>1.0</td>\n",
       "      <td>3.0</td>\n",
       "      <td>Original</td>\n",
       "      <td>Tagi</td>\n",
       "      <td>Stacey</td>\n",
       "      <td>NaN</td>\n",
       "      <td>Rudy</td>\n",
       "      <td>NaN</td>\n",
       "      <td>NaN</td>\n",
       "      <td>NaN</td>\n",
       "      <td>False</td>\n",
       "      <td>False</td>\n",
       "      <td>Sonja</td>\n",
       "      <td>1.0</td>\n",
       "      <td>1.0</td>\n",
       "      <td>US0003</td>\n",
       "      <td>US0014</td>\n",
       "      <td>US0001</td>\n",
       "    </tr>\n",
       "    <tr>\n",
       "      <th>2</th>\n",
       "      <td>US</td>\n",
       "      <td>US01</td>\n",
       "      <td>Survivor: Borneo</td>\n",
       "      <td>1.0</td>\n",
       "      <td>1.0</td>\n",
       "      <td>3.0</td>\n",
       "      <td>Original</td>\n",
       "      <td>Tagi</td>\n",
       "      <td>Dirk</td>\n",
       "      <td>NaN</td>\n",
       "      <td>Sonja</td>\n",
       "      <td>NaN</td>\n",
       "      <td>NaN</td>\n",
       "      <td>NaN</td>\n",
       "      <td>False</td>\n",
       "      <td>False</td>\n",
       "      <td>Sonja</td>\n",
       "      <td>1.0</td>\n",
       "      <td>1.0</td>\n",
       "      <td>US0005</td>\n",
       "      <td>US0001</td>\n",
       "      <td>US0001</td>\n",
       "    </tr>\n",
       "    <tr>\n",
       "      <th>3</th>\n",
       "      <td>US</td>\n",
       "      <td>US01</td>\n",
       "      <td>Survivor: Borneo</td>\n",
       "      <td>1.0</td>\n",
       "      <td>1.0</td>\n",
       "      <td>3.0</td>\n",
       "      <td>Original</td>\n",
       "      <td>Tagi</td>\n",
       "      <td>Sean</td>\n",
       "      <td>NaN</td>\n",
       "      <td>Sonja</td>\n",
       "      <td>NaN</td>\n",
       "      <td>NaN</td>\n",
       "      <td>NaN</td>\n",
       "      <td>False</td>\n",
       "      <td>False</td>\n",
       "      <td>Sonja</td>\n",
       "      <td>1.0</td>\n",
       "      <td>1.0</td>\n",
       "      <td>US0012</td>\n",
       "      <td>US0001</td>\n",
       "      <td>US0001</td>\n",
       "    </tr>\n",
       "    <tr>\n",
       "      <th>4</th>\n",
       "      <td>US</td>\n",
       "      <td>US01</td>\n",
       "      <td>Survivor: Borneo</td>\n",
       "      <td>1.0</td>\n",
       "      <td>1.0</td>\n",
       "      <td>3.0</td>\n",
       "      <td>Original</td>\n",
       "      <td>Tagi</td>\n",
       "      <td>Sue</td>\n",
       "      <td>NaN</td>\n",
       "      <td>Sonja</td>\n",
       "      <td>NaN</td>\n",
       "      <td>NaN</td>\n",
       "      <td>NaN</td>\n",
       "      <td>False</td>\n",
       "      <td>False</td>\n",
       "      <td>Sonja</td>\n",
       "      <td>1.0</td>\n",
       "      <td>1.0</td>\n",
       "      <td>US0013</td>\n",
       "      <td>US0001</td>\n",
       "      <td>US0001</td>\n",
       "    </tr>\n",
       "  </tbody>\n",
       "</table>\n",
       "</div>"
      ],
      "text/plain": [
       "  version version_season       season_name  season  episode  day tribe_status  \\\n",
       "0      US           US01  Survivor: Borneo     1.0      1.0  3.0     Original   \n",
       "1      US           US01  Survivor: Borneo     1.0      1.0  3.0     Original   \n",
       "2      US           US01  Survivor: Borneo     1.0      1.0  3.0     Original   \n",
       "3      US           US01  Survivor: Borneo     1.0      1.0  3.0     Original   \n",
       "4      US           US01  Survivor: Borneo     1.0      1.0  3.0     Original   \n",
       "\n",
       "  tribe castaway immunity   vote vote_event vote_event_outcome split_vote  \\\n",
       "0  Tagi    Sonja      NaN   Rudy        NaN                NaN        NaN   \n",
       "1  Tagi   Stacey      NaN   Rudy        NaN                NaN        NaN   \n",
       "2  Tagi     Dirk      NaN  Sonja        NaN                NaN        NaN   \n",
       "3  Tagi     Sean      NaN  Sonja        NaN                NaN        NaN   \n",
       "4  Tagi      Sue      NaN  Sonja        NaN                NaN        NaN   \n",
       "\n",
       "  nullified    tie voted_out  order  vote_order castaway_id vote_id  \\\n",
       "0     False  False     Sonja    1.0         1.0      US0001  US0014   \n",
       "1     False  False     Sonja    1.0         1.0      US0003  US0014   \n",
       "2     False  False     Sonja    1.0         1.0      US0005  US0001   \n",
       "3     False  False     Sonja    1.0         1.0      US0012  US0001   \n",
       "4     False  False     Sonja    1.0         1.0      US0013  US0001   \n",
       "\n",
       "  voted_out_id  \n",
       "0       US0001  \n",
       "1       US0001  \n",
       "2       US0001  \n",
       "3       US0001  \n",
       "4       US0001  "
      ]
     },
     "execution_count": 6,
     "metadata": {},
     "output_type": "execute_result"
    }
   ],
   "source": []
  },
  {
   "cell_type": "code",
   "execution_count": 10,
   "id": "42db899b",
   "metadata": {},
   "outputs": [],
   "source": [
    "vote_offs = (\n",
    "    src.query(f'version == \"US\" and ~season.isin({seasons})')[\n",
    "        [\"version_season\", \"episode\", \"voted_out\"]\n",
    "    ]\n",
    "    .drop_duplicates()\n",
    "    .reset_index(drop=True)\n",
    ")"
   ]
  },
  {
   "cell_type": "code",
   "execution_count": 13,
   "metadata": {},
   "outputs": [],
   "source": []
  },
  {
   "cell_type": "code",
   "execution_count": 14,
   "id": "69ae5849",
   "metadata": {},
   "outputs": [],
   "source": [
    "vote_offs[\"vote\"] = vote_offs.groupby(\"version_season\")[\"voted_out\"].cumcount() + 1"
   ]
  },
  {
   "cell_type": "code",
   "execution_count": 15,
   "id": "c948afd5",
   "metadata": {},
   "outputs": [],
   "source": [
    "vote_offs.to_csv(\"../data/raw/other/vote_offs/collection.csv\", index=False)"
   ]
  },
  {
   "cell_type": "markdown",
   "id": "39ff5df8",
   "metadata": {},
   "source": []
  },
  {
   "cell_type": "code",
   "execution_count": null,
   "id": "e162257e",
   "metadata": {},
   "outputs": [],
   "source": []
  },
  {
   "cell_type": "markdown",
   "id": "15b9c879-2480-49f4-99e7-6adc1a4c10aa",
   "metadata": {},
   "source": [
    "---"
   ]
  },
  {
   "cell_type": "markdown",
   "id": "41af18db-4aeb-4259-a7c1-b52471eb8693",
   "metadata": {},
   "source": [
    "## Exports"
   ]
  },
  {
   "cell_type": "markdown",
   "id": "e3831fb4-1062-4cab-9730-933ff07e01f0",
   "metadata": {},
   "source": [
    "#### JSON"
   ]
  },
  {
   "cell_type": "code",
   "execution_count": 16,
   "id": "e1e78a42-ba8a-49aa-a699-58e33fa204d0",
   "metadata": {},
   "outputs": [],
   "source": [
    "# df.to_json(\n",
    "#     f\"data/processed/NAME.json\",\n",
    "#     indent=4,\n",
    "#     orient=\"records\",\n",
    "# )"
   ]
  },
  {
   "cell_type": "markdown",
   "id": "d737f808-9d71-4f25-8cd1-3fcedc45ab63",
   "metadata": {},
   "source": [
    "#### CSV"
   ]
  },
  {
   "cell_type": "code",
   "execution_count": 18,
   "id": "0504831b-4df4-4ff2-bd26-f08ef7ca9198",
   "metadata": {},
   "outputs": [],
   "source": [
    "# df.to_csv(\n",
    "#     f\"data/processed/NAME.csv\", index=False\n",
    "# )"
   ]
  }
 ],
 "metadata": {
  "kernelspec": {
   "display_name": "Python 3 (ipykernel)",
   "language": "python",
   "name": "python3"
  },
  "language_info": {
   "codemirror_mode": {
    "name": "ipython",
    "version": 3
   },
   "file_extension": ".py",
   "mimetype": "text/x-python",
   "name": "python",
   "nbconvert_exporter": "python",
   "pygments_lexer": "ipython3",
   "version": "3.9.15"
  }
 },
 "nbformat": 4,
 "nbformat_minor": 5
}
