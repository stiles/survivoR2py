{
 "cells": [
  {
   "cell_type": "markdown",
   "id": "0fdd4e16-e062-4146-9c40-05a340ecc972",
   "metadata": {},
   "source": [
    "# Castaways\n",
    "> Make a list of votes to aid in vote offs collection.  "
   ]
  },
  {
   "cell_type": "markdown",
   "id": "2cd6a4cf-3892-4cc9-97de-84f87dc86d7d",
   "metadata": {},
   "source": [
    "#### Load Python tools and Jupyter config"
   ]
  },
  {
   "cell_type": "code",
   "execution_count": 1,
   "id": "4e19f39a-7be0-4b71-a789-f08da806946d",
   "metadata": {},
   "outputs": [
    {
     "data": {
      "text/html": [
       "\n",
       "                <script type=\"application/javascript\" id=\"jupyter_black\">\n",
       "                (function() {\n",
       "                    if (window.IPython === undefined) {\n",
       "                        return\n",
       "                    }\n",
       "                    var msg = \"WARNING: it looks like you might have loaded \" +\n",
       "                        \"jupyter_black in a non-lab notebook with \" +\n",
       "                        \"`is_lab=True`. Please double check, and if \" +\n",
       "                        \"loading with `%load_ext` please review the README!\"\n",
       "                    console.log(msg)\n",
       "                    alert(msg)\n",
       "                })()\n",
       "                </script>\n",
       "                "
      ],
      "text/plain": [
       "<IPython.core.display.HTML object>"
      ]
     },
     "metadata": {},
     "output_type": "display_data"
    }
   ],
   "source": [
    "import pandas as pd\n",
    "import jupyter_black\n",
    "\n",
    "jupyter_black.load()\n",
    "pd.options.display.max_columns = 100\n",
    "pd.options.display.max_rows = 1000"
   ]
  },
  {
   "cell_type": "markdown",
   "id": "d9ec1603-0bda-4d46-a251-1c50f137d197",
   "metadata": {},
   "source": [
    "---"
   ]
  },
  {
   "cell_type": "markdown",
   "id": "3bbfd20b-7936-4f21-a091-697fca808ab1",
   "metadata": {},
   "source": [
    "## Read data"
   ]
  },
  {
   "cell_type": "markdown",
   "id": "f45a5c6e",
   "metadata": {},
   "source": [
    "#### Read vote history table"
   ]
  },
  {
   "cell_type": "code",
   "execution_count": 2,
   "id": "a6e7fe23",
   "metadata": {},
   "outputs": [],
   "source": [
    "src = pd.read_csv(\"../data/raw/csv/vote_history.csv\")"
   ]
  },
  {
   "cell_type": "markdown",
   "id": "a26b1de9",
   "metadata": {},
   "source": [
    "#### Seasons so far"
   ]
  },
  {
   "cell_type": "code",
   "execution_count": 3,
   "id": "5c154dab",
   "metadata": {},
   "outputs": [],
   "source": [
    "seasons = [1, 7, 11, 40, 43, 44, 45, 46]"
   ]
  },
  {
   "cell_type": "markdown",
   "id": "8d944f70",
   "metadata": {},
   "source": [
    "#### Filter for distinct values to create a vote off lookup"
   ]
  },
  {
   "cell_type": "code",
   "execution_count": 4,
   "id": "42db899b",
   "metadata": {},
   "outputs": [],
   "source": [
    "vote_offs = (\n",
    "    src.query(f'version == \"US\" and ~season.isin({seasons})')[\n",
    "        [\"version_season\", \"episode\", \"voted_out\"]\n",
    "    ]\n",
    "    .drop_duplicates()\n",
    "    .reset_index(drop=True)\n",
    ")"
   ]
  },
  {
   "cell_type": "markdown",
   "id": "0fb8ef30",
   "metadata": {},
   "source": [
    "#### Running vote count by season"
   ]
  },
  {
   "cell_type": "code",
   "execution_count": 5,
   "id": "69ae5849",
   "metadata": {},
   "outputs": [],
   "source": [
    "vote_offs[\"vote\"] = vote_offs.groupby(\"version_season\")[\"voted_out\"].cumcount() + 1"
   ]
  },
  {
   "cell_type": "markdown",
   "id": "15b9c879-2480-49f4-99e7-6adc1a4c10aa",
   "metadata": {},
   "source": [
    "---"
   ]
  },
  {
   "cell_type": "markdown",
   "id": "41af18db-4aeb-4259-a7c1-b52471eb8693",
   "metadata": {},
   "source": [
    "## Exports"
   ]
  },
  {
   "cell_type": "markdown",
   "id": "d737f808-9d71-4f25-8cd1-3fcedc45ab63",
   "metadata": {},
   "source": [
    "#### CSV"
   ]
  },
  {
   "cell_type": "code",
   "execution_count": 6,
   "id": "0504831b-4df4-4ff2-bd26-f08ef7ca9198",
   "metadata": {},
   "outputs": [],
   "source": [
    "vote_offs.to_csv(\"../data/raw/other/vote_offs/collection.csv\", index=False)"
   ]
  }
 ],
 "metadata": {
  "kernelspec": {
   "display_name": "Python 3 (ipykernel)",
   "language": "python",
   "name": "python3"
  },
  "language_info": {
   "codemirror_mode": {
    "name": "ipython",
    "version": 3
   },
   "file_extension": ".py",
   "mimetype": "text/x-python",
   "name": "python",
   "nbconvert_exporter": "python",
   "pygments_lexer": "ipython3",
   "version": "3.9.15"
  }
 },
 "nbformat": 4,
 "nbformat_minor": 5
}
