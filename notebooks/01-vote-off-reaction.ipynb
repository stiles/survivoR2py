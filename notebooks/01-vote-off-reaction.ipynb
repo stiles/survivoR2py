{
 "cells": [
  {
   "cell_type": "markdown",
   "id": "0fdd4e16-e062-4146-9c40-05a340ecc972",
   "metadata": {},
   "source": [
    "# Castaways reactions\n",
    "> How did contestants respond after their torch was snuffed? This script fetches the growing log and scores the acknowlegement of his/her tribe.rt    "
   ]
  },
  {
   "cell_type": "markdown",
   "id": "2cd6a4cf-3892-4cc9-97de-84f87dc86d7d",
   "metadata": {},
   "source": [
    "#### Load Python tools and Jupyter config"
   ]
  },
  {
   "cell_type": "code",
   "execution_count": 1,
   "id": "09045afa-19e6-421c-9d4a-85b3dd167ca7",
   "metadata": {},
   "outputs": [],
   "source": [
    "import pandas as pd\n",
    "import jupyter_black"
   ]
  },
  {
   "cell_type": "code",
   "execution_count": 2,
   "id": "cbe17a07-10c6-4a80-83a1-a9e3fce83953",
   "metadata": {},
   "outputs": [
    {
     "data": {
      "text/html": [
       "\n",
       "                <script type=\"application/javascript\" id=\"jupyter_black\">\n",
       "                (function() {\n",
       "                    if (window.IPython === undefined) {\n",
       "                        return\n",
       "                    }\n",
       "                    var msg = \"WARNING: it looks like you might have loaded \" +\n",
       "                        \"jupyter_black in a non-lab notebook with \" +\n",
       "                        \"`is_lab=True`. Please double check, and if \" +\n",
       "                        \"loading with `%load_ext` please review the README!\"\n",
       "                    console.log(msg)\n",
       "                    alert(msg)\n",
       "                })()\n",
       "                </script>\n",
       "                "
      ],
      "text/plain": [
       "<IPython.core.display.HTML object>"
      ]
     },
     "metadata": {},
     "output_type": "display_data"
    }
   ],
   "source": [
    "jupyter_black.load()\n",
    "pd.options.display.max_columns = 100\n",
    "pd.options.display.max_rows = 1000"
   ]
  },
  {
   "cell_type": "code",
   "execution_count": 3,
   "id": "9f3e27e0-7ee3-4052-bf18-357f0e753720",
   "metadata": {},
   "outputs": [],
   "source": [
    "# Output paths\n",
    "csv_output_path = \"../data/raw/other/vote_offs/log.csv\"\n",
    "json_output_path = \"../data/raw/other/vote_offs/log.json\""
   ]
  },
  {
   "cell_type": "markdown",
   "id": "d9ec1603-0bda-4d46-a251-1c50f137d197",
   "metadata": {},
   "source": [
    "---"
   ]
  },
  {
   "cell_type": "markdown",
   "id": "3bbfd20b-7936-4f21-a091-697fca808ab1",
   "metadata": {},
   "source": [
    "## Read data"
   ]
  },
  {
   "cell_type": "markdown",
   "id": "f45a5c6e",
   "metadata": {},
   "source": [
    "#### Get data entry table"
   ]
  },
  {
   "cell_type": "code",
   "execution_count": 4,
   "id": "8ceb81be",
   "metadata": {},
   "outputs": [],
   "source": [
    "# Define URL for Google Sheets CSV\n",
    "# https://docs.google.com/spreadsheets/d/1nys0mCWArUCtPKYIVBrbjmv7eAWkmOce4cBlyHm8b0c/edit?gid=120496879#gid=120496879\n",
    "url = \"https://docs.google.com/spreadsheets/d/e/2PACX-1vQfmJJvr0TdW6fZ-wDdTadFDY5wTm2S6cnr9-n2D3cS6-eRGbIySzVokY97bON66_BXDIc0jnSjch82/pub?gid=120496879&single=true&output=csv\"\n",
    "\n",
    "# Read CSV from URL\n",
    "data_entry = pd.read_csv(url)"
   ]
  },
  {
   "cell_type": "code",
   "execution_count": null,
   "id": "1fba2068-9372-42b2-9de1-726fa9421fed",
   "metadata": {},
   "outputs": [],
   "source": [
    "# clean castaways table\n",
    "vote_offs_lookup = pd.read_csv(\"../data/processed/survivor_all_voteoffs.csv\")"
   ]
  },
  {
   "cell_type": "code",
   "execution_count": 17,
   "id": "5f5ebf33-e7d6-4d87-be78-bde0450455f4",
   "metadata": {},
   "outputs": [
    {
     "data": {
      "text/html": [
       "<div>\n",
       "<style scoped>\n",
       "    .dataframe tbody tr th:only-of-type {\n",
       "        vertical-align: middle;\n",
       "    }\n",
       "\n",
       "    .dataframe tbody tr th {\n",
       "        vertical-align: top;\n",
       "    }\n",
       "\n",
       "    .dataframe thead th {\n",
       "        text-align: right;\n",
       "    }\n",
       "</style>\n",
       "<table border=\"1\" class=\"dataframe\">\n",
       "  <thead>\n",
       "    <tr style=\"text-align: right;\">\n",
       "      <th></th>\n",
       "      <th>season</th>\n",
       "      <th>episode</th>\n",
       "      <th>voted_out</th>\n",
       "      <th>voted_out_id</th>\n",
       "      <th>vote</th>\n",
       "    </tr>\n",
       "  </thead>\n",
       "  <tbody>\n",
       "    <tr>\n",
       "      <th>623</th>\n",
       "      <td>42</td>\n",
       "      <td>1</td>\n",
       "      <td>Zach</td>\n",
       "      <td>US0626</td>\n",
       "      <td>1</td>\n",
       "    </tr>\n",
       "    <tr>\n",
       "      <th>624</th>\n",
       "      <td>42</td>\n",
       "      <td>2</td>\n",
       "      <td>Marya</td>\n",
       "      <td>US0618</td>\n",
       "      <td>2</td>\n",
       "    </tr>\n",
       "    <tr>\n",
       "      <th>625</th>\n",
       "      <td>42</td>\n",
       "      <td>3</td>\n",
       "      <td>Jenny</td>\n",
       "      <td>US0614</td>\n",
       "      <td>3</td>\n",
       "    </tr>\n",
       "    <tr>\n",
       "      <th>626</th>\n",
       "      <td>42</td>\n",
       "      <td>4</td>\n",
       "      <td>Swati</td>\n",
       "      <td>US0624</td>\n",
       "      <td>4</td>\n",
       "    </tr>\n",
       "    <tr>\n",
       "      <th>627</th>\n",
       "      <td>42</td>\n",
       "      <td>5</td>\n",
       "      <td>Daniel</td>\n",
       "      <td>US0610</td>\n",
       "      <td>5</td>\n",
       "    </tr>\n",
       "    <tr>\n",
       "      <th>628</th>\n",
       "      <td>42</td>\n",
       "      <td>7</td>\n",
       "      <td>Lydia</td>\n",
       "      <td>US0617</td>\n",
       "      <td>6</td>\n",
       "    </tr>\n",
       "    <tr>\n",
       "      <th>629</th>\n",
       "      <td>42</td>\n",
       "      <td>8</td>\n",
       "      <td>Chanelle</td>\n",
       "      <td>US0609</td>\n",
       "      <td>7</td>\n",
       "    </tr>\n",
       "    <tr>\n",
       "      <th>630</th>\n",
       "      <td>42</td>\n",
       "      <td>9</td>\n",
       "      <td>Rocksroy</td>\n",
       "      <td>US0622</td>\n",
       "      <td>8</td>\n",
       "    </tr>\n",
       "    <tr>\n",
       "      <th>631</th>\n",
       "      <td>42</td>\n",
       "      <td>9</td>\n",
       "      <td>Tori</td>\n",
       "      <td>US0625</td>\n",
       "      <td>9</td>\n",
       "    </tr>\n",
       "    <tr>\n",
       "      <th>632</th>\n",
       "      <td>42</td>\n",
       "      <td>10</td>\n",
       "      <td>Hai</td>\n",
       "      <td>US0612</td>\n",
       "      <td>10</td>\n",
       "    </tr>\n",
       "    <tr>\n",
       "      <th>633</th>\n",
       "      <td>42</td>\n",
       "      <td>11</td>\n",
       "      <td>Drea</td>\n",
       "      <td>US0611</td>\n",
       "      <td>11</td>\n",
       "    </tr>\n",
       "    <tr>\n",
       "      <th>634</th>\n",
       "      <td>42</td>\n",
       "      <td>12</td>\n",
       "      <td>Omar</td>\n",
       "      <td>US0621</td>\n",
       "      <td>12</td>\n",
       "    </tr>\n",
       "    <tr>\n",
       "      <th>635</th>\n",
       "      <td>42</td>\n",
       "      <td>13</td>\n",
       "      <td>Lindsay</td>\n",
       "      <td>US0616</td>\n",
       "      <td>13</td>\n",
       "    </tr>\n",
       "    <tr>\n",
       "      <th>636</th>\n",
       "      <td>42</td>\n",
       "      <td>13</td>\n",
       "      <td>Jonathan</td>\n",
       "      <td>US0615</td>\n",
       "      <td>14</td>\n",
       "    </tr>\n",
       "  </tbody>\n",
       "</table>\n",
       "</div>"
      ],
      "text/plain": [
       "     season  episode voted_out voted_out_id  vote\n",
       "623      42        1      Zach       US0626     1\n",
       "624      42        2     Marya       US0618     2\n",
       "625      42        3     Jenny       US0614     3\n",
       "626      42        4     Swati       US0624     4\n",
       "627      42        5    Daniel       US0610     5\n",
       "628      42        7     Lydia       US0617     6\n",
       "629      42        8  Chanelle       US0609     7\n",
       "630      42        9  Rocksroy       US0622     8\n",
       "631      42        9      Tori       US0625     9\n",
       "632      42       10       Hai       US0612    10\n",
       "633      42       11      Drea       US0611    11\n",
       "634      42       12      Omar       US0621    12\n",
       "635      42       13   Lindsay       US0616    13\n",
       "636      42       13  Jonathan       US0615    14"
      ]
     },
     "execution_count": 17,
     "metadata": {},
     "output_type": "execute_result"
    }
   ],
   "source": [
    "vote_offs_lookup.query(\"season == 42\")"
   ]
  },
  {
   "cell_type": "code",
   "execution_count": 6,
   "id": "3ef5627d-a01f-49a7-8cd2-4b614f7f5278",
   "metadata": {},
   "outputs": [
    {
     "name": "stdout",
     "output_type": "stream",
     "text": [
      "Lengths match successfully!\n"
     ]
    }
   ],
   "source": [
    "# Assertion to ensure the lengths are the same\n",
    "assert len(data_entry) == len(\n",
    "    vote_offs_lookup\n",
    "), f\"Assertion failed: Lengths do not match (data_entry: {data_entry_rows}, vote_offs_lookup: {vote_offs_rows})\"\n",
    "\n",
    "print(\"Lengths match successfully!\")"
   ]
  },
  {
   "cell_type": "code",
   "execution_count": 7,
   "id": "c377b824-a632-49c6-9565-e650e6a0c5b4",
   "metadata": {},
   "outputs": [],
   "source": [
    "# Fix data error\n",
    "vote_offs_lookup.loc[\n",
    "    (vote_offs_lookup[\"season\"] == 46) & (vote_offs_lookup[\"episode\"] == 8), \"voted_out\"\n",
    "] = \"Tevin\""
   ]
  },
  {
   "cell_type": "code",
   "execution_count": 8,
   "id": "a4f5797e-f566-48cb-a34b-a3435fee93e5",
   "metadata": {},
   "outputs": [],
   "source": [
    "vote_offs_lookup.loc[\n",
    "    (vote_offs_lookup[\"season\"] == 46) & (vote_offs_lookup[\"episode\"] == 8),\n",
    "    \"voted_out_id\",\n",
    "] = \"US0694\""
   ]
  },
  {
   "cell_type": "code",
   "execution_count": 9,
   "id": "2955878f",
   "metadata": {},
   "outputs": [],
   "source": [
    "# Merge them together to add ids to Google Sheet\n",
    "merged = pd.merge(\n",
    "    data_entry, vote_offs_lookup, on=[\"season\", \"vote\"], how=\"right\", indicator=True\n",
    ")"
   ]
  },
  {
   "cell_type": "code",
   "execution_count": 10,
   "id": "cbcac387-e879-4ab7-95f0-51600728e4ae",
   "metadata": {},
   "outputs": [],
   "source": [
    "merged[\"match\"] = merged[\"castaway\"] == merged[\"voted_out\"]"
   ]
  },
  {
   "cell_type": "code",
   "execution_count": 11,
   "id": "cc7df345-f274-4ff6-985b-2e85647d9842",
   "metadata": {},
   "outputs": [
    {
     "name": "stdout",
     "output_type": "stream",
     "text": [
      "All rows matched successfully!\n"
     ]
    }
   ],
   "source": [
    "assert merged[\n",
    "    \"match\"\n",
    "].all(), \"Assertion failed: There are mismatched rows in the DataFrame.\"\n",
    "\n",
    "print(\"All rows matched successfully!\")"
   ]
  },
  {
   "cell_type": "code",
   "execution_count": 12,
   "id": "8f6229fd",
   "metadata": {},
   "outputs": [],
   "source": [
    "# Define acknowledgment columns\n",
    "ack_columns = [\"ack_gesture\", \"ack_speak\", \"ack_look\", \"ack_smile\"]"
   ]
  },
  {
   "cell_type": "code",
   "execution_count": 13,
   "id": "781675c0",
   "metadata": {},
   "outputs": [],
   "source": [
    "# Calculate acknowledgment score as the count of True values in the acknowledgment columns\n",
    "merged[\"ack_score\"] = merged[ack_columns].sum(axis=1)"
   ]
  },
  {
   "cell_type": "code",
   "execution_count": 14,
   "id": "e570782a-4fad-4ee7-b989-fcdfb52de279",
   "metadata": {},
   "outputs": [],
   "source": [
    "# Save to CSV\n",
    "merged.to_csv(csv_output_path, index=False)"
   ]
  },
  {
   "cell_type": "code",
   "execution_count": 15,
   "id": "71d938e1-6c6e-406e-98d8-6450d6515d21",
   "metadata": {},
   "outputs": [],
   "source": [
    "# Save to JSON\n",
    "merged.to_json(json_output_path, orient=\"records\", indent=4)"
   ]
  }
 ],
 "metadata": {
  "kernelspec": {
   "display_name": "Python 3 (ipykernel)",
   "language": "python",
   "name": "python3"
  },
  "language_info": {
   "codemirror_mode": {
    "name": "ipython",
    "version": 3
   },
   "file_extension": ".py",
   "mimetype": "text/x-python",
   "name": "python",
   "nbconvert_exporter": "python",
   "pygments_lexer": "ipython3",
   "version": "3.9.15"
  }
 },
 "nbformat": 4,
 "nbformat_minor": 5
}
