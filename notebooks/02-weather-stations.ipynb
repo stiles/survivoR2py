{
 "cells": [
  {
   "cell_type": "markdown",
   "id": "ced4c667-613a-43a0-8fb7-d353e34ed740",
   "metadata": {},
   "source": [
    "# Locations of Suvivor US seasons\n",
    "> Make a geocoded list of season locations and sketch them on a map.   "
   ]
  },
  {
   "cell_type": "markdown",
   "id": "775e1348-40e9-47f4-ae90-babf3b92ce3a",
   "metadata": {},
   "source": [
    "#### Load Python tools and Jupyter config"
   ]
  },
  {
   "cell_type": "code",
   "execution_count": 4,
   "id": "df802ef1-af89-4a66-b91a-6db23b4a42a9",
   "metadata": {
    "scrolled": true
   },
   "outputs": [],
   "source": [
    "import os\n",
    "import requests\n",
    "import googlemaps\n",
    "import pandas as pd\n",
    "import altair as alt\n",
    "import geopandas as gpd\n",
    "from shapely.geometry import Point, mapping"
   ]
  },
  {
   "cell_type": "markdown",
   "id": "2796f6d6-4901-4b9c-8d0a-1ad0282580e8",
   "metadata": {},
   "source": [
    "---"
   ]
  },
  {
   "cell_type": "markdown",
   "id": "9249a072-03e5-44a5-9271-e3ab509670d9",
   "metadata": {},
   "source": [
    "## Read, process data"
   ]
  },
  {
   "cell_type": "markdown",
   "id": "645df628-c455-4f83-8d37-c8cdbcb9366f",
   "metadata": {},
   "source": [
    "#### Seasons dataframe with geocoded locations"
   ]
  },
  {
   "cell_type": "code",
   "execution_count": null,
   "id": "fe29b256-428c-4b32-9114-8e4679548337",
   "metadata": {},
   "outputs": [],
   "source": [
    "locations_gdf = gpd.read_file('https://stilesdata.com/survivor/seasons_geocoded_locations.geojson')"
   ]
  },
  {
   "cell_type": "code",
   "execution_count": 267,
   "id": "10534eb0-623d-49ac-bf87-4ffa5964f83c",
   "metadata": {},
   "outputs": [
    {
     "data": {
      "text/html": [
       "<div>\n",
       "<style scoped>\n",
       "    .dataframe tbody tr th:only-of-type {\n",
       "        vertical-align: middle;\n",
       "    }\n",
       "\n",
       "    .dataframe tbody tr th {\n",
       "        vertical-align: top;\n",
       "    }\n",
       "\n",
       "    .dataframe thead th {\n",
       "        text-align: right;\n",
       "    }\n",
       "</style>\n",
       "<table border=\"1\" class=\"dataframe\">\n",
       "  <thead>\n",
       "    <tr style=\"text-align: right;\">\n",
       "      <th></th>\n",
       "      <th>season_name</th>\n",
       "      <th>season</th>\n",
       "      <th>location</th>\n",
       "      <th>country</th>\n",
       "      <th>filming_started</th>\n",
       "      <th>filming_ended</th>\n",
       "      <th>latitude</th>\n",
       "      <th>longitude</th>\n",
       "      <th>geometry</th>\n",
       "    </tr>\n",
       "  </thead>\n",
       "  <tbody>\n",
       "    <tr>\n",
       "      <th>0</th>\n",
       "      <td>Survivor: Borneo</td>\n",
       "      <td>1</td>\n",
       "      <td>Pulau Tiga, Sabah, Malaysia</td>\n",
       "      <td>Malaysia</td>\n",
       "      <td>2000-03-13</td>\n",
       "      <td>2000-04-20</td>\n",
       "      <td>5.725310</td>\n",
       "      <td>115.653951</td>\n",
       "      <td>POINT (115.65395 5.72531)</td>\n",
       "    </tr>\n",
       "    <tr>\n",
       "      <th>1</th>\n",
       "      <td>Survivor: The Australian Outback</td>\n",
       "      <td>2</td>\n",
       "      <td>Herbert River at Goshen Station, Queensland, A...</td>\n",
       "      <td>Australia</td>\n",
       "      <td>2000-10-23</td>\n",
       "      <td>2000-12-03</td>\n",
       "      <td>-18.146232</td>\n",
       "      <td>145.438669</td>\n",
       "      <td>POINT (145.43867 -18.14623)</td>\n",
       "    </tr>\n",
       "    <tr>\n",
       "      <th>2</th>\n",
       "      <td>Survivor: Africa</td>\n",
       "      <td>3</td>\n",
       "      <td>Shaba National Reserve, Kenya</td>\n",
       "      <td>Kenya</td>\n",
       "      <td>2001-07-11</td>\n",
       "      <td>2001-08-18</td>\n",
       "      <td>0.640064</td>\n",
       "      <td>37.830003</td>\n",
       "      <td>POINT (37.83 0.64006)</td>\n",
       "    </tr>\n",
       "    <tr>\n",
       "      <th>3</th>\n",
       "      <td>Survivor: Marquesas</td>\n",
       "      <td>4</td>\n",
       "      <td>Nuku Hiva, Marquesas Islands, French Polynesia</td>\n",
       "      <td>French Polynesia</td>\n",
       "      <td>2001-11-12</td>\n",
       "      <td>2001-12-20</td>\n",
       "      <td>-8.906170</td>\n",
       "      <td>-140.105531</td>\n",
       "      <td>POINT (-140.10553 -8.90617)</td>\n",
       "    </tr>\n",
       "    <tr>\n",
       "      <th>4</th>\n",
       "      <td>Survivor: Thailand</td>\n",
       "      <td>5</td>\n",
       "      <td>Ko Tarutao, Satun Province, Thailand</td>\n",
       "      <td>Thailand</td>\n",
       "      <td>2002-06-10</td>\n",
       "      <td>2002-07-18</td>\n",
       "      <td>6.591317</td>\n",
       "      <td>99.656409</td>\n",
       "      <td>POINT (99.65641 6.59132)</td>\n",
       "    </tr>\n",
       "  </tbody>\n",
       "</table>\n",
       "</div>"
      ],
      "text/plain": [
       "                        season_name  season  \\\n",
       "0                  Survivor: Borneo       1   \n",
       "1  Survivor: The Australian Outback       2   \n",
       "2                  Survivor: Africa       3   \n",
       "3               Survivor: Marquesas       4   \n",
       "4                Survivor: Thailand       5   \n",
       "\n",
       "                                            location           country  \\\n",
       "0                        Pulau Tiga, Sabah, Malaysia          Malaysia   \n",
       "1  Herbert River at Goshen Station, Queensland, A...         Australia   \n",
       "2                      Shaba National Reserve, Kenya             Kenya   \n",
       "3     Nuku Hiva, Marquesas Islands, French Polynesia  French Polynesia   \n",
       "4               Ko Tarutao, Satun Province, Thailand          Thailand   \n",
       "\n",
       "  filming_started filming_ended   latitude   longitude  \\\n",
       "0      2000-03-13    2000-04-20   5.725310  115.653951   \n",
       "1      2000-10-23    2000-12-03 -18.146232  145.438669   \n",
       "2      2001-07-11    2001-08-18   0.640064   37.830003   \n",
       "3      2001-11-12    2001-12-20  -8.906170 -140.105531   \n",
       "4      2002-06-10    2002-07-18   6.591317   99.656409   \n",
       "\n",
       "                      geometry  \n",
       "0    POINT (115.65395 5.72531)  \n",
       "1  POINT (145.43867 -18.14623)  \n",
       "2        POINT (37.83 0.64006)  \n",
       "3  POINT (-140.10553 -8.90617)  \n",
       "4     POINT (99.65641 6.59132)  "
      ]
     },
     "execution_count": 267,
     "metadata": {},
     "output_type": "execute_result"
    }
   ],
   "source": [
    "locations_gdf.head()"
   ]
  },
  {
   "cell_type": "code",
   "execution_count": 256,
   "id": "9c7d630e-dc23-4b95-bf6b-72f3564bdb9f",
   "metadata": {},
   "outputs": [],
   "source": [
    "locations_gdf.loc[locations_gdf[\"location\"] == \"Aitutaki, Cook Islands\", \"country\"] = 'Cook Islands'\n",
    "locations_gdf.loc[locations_gdf[\"location\"] == \"Nuku Hiva, Marquesas Islands, French Polynesia\", \"country\"] = 'French Polynesia'\n",
    "locations_gdf.loc[locations_gdf[\"season\"].isin([7, 8, 12]), \"country\"] = 'Panama'"
   ]
  },
  {
   "cell_type": "code",
   "execution_count": null,
   "id": "d2444ee0-d131-478f-afb4-f4cd103dc7cd",
   "metadata": {},
   "outputs": [],
   "source": [
    "locations_countries = list(locations_gdf.country.str.strip().unique())"
   ]
  },
  {
   "cell_type": "markdown",
   "id": "2a15c028-ffd9-4809-bef6-5dd89a962053",
   "metadata": {},
   "source": [
    "---"
   ]
  },
  {
   "cell_type": "markdown",
   "id": "8f19abaf-3f63-48b5-84c9-2727a2e374b2",
   "metadata": {},
   "source": [
    "## Weather"
   ]
  },
  {
   "cell_type": "code",
   "execution_count": null,
   "id": "e4cb96a5-5f08-496c-9915-a4721221200b",
   "metadata": {},
   "outputs": [],
   "source": [
    "climate_normals_src = gpd.read_file('')"
   ]
  },
  {
   "cell_type": "code",
   "execution_count": null,
   "id": "385b0fa0-6f14-4d3d-aa95-984ac2862f43",
   "metadata": {},
   "outputs": [],
   "source": []
  },
  {
   "cell_type": "code",
   "execution_count": null,
   "id": "722938cc-a0ba-4331-84f7-ef3d20762ced",
   "metadata": {},
   "outputs": [],
   "source": []
  },
  {
   "cell_type": "markdown",
   "id": "1a579c30-5232-4de1-8ac1-9d00671073b2",
   "metadata": {},
   "source": [
    "#### WMO weather stations from [NCDC](https://gis.ncdc.noaa.gov/arcgis/rest/services/cdo/stations/MapServer/15)"
   ]
  },
  {
   "cell_type": "code",
   "execution_count": 258,
   "id": "a6533670-8b97-4605-8293-51fb484e6d98",
   "metadata": {},
   "outputs": [],
   "source": [
    "stations_src = gpd.read_file('https://stilesdata.com/weather/wmo_weather_stations.geojson')"
   ]
  },
  {
   "cell_type": "code",
   "execution_count": 259,
   "id": "f761b15d-4963-4a85-a044-fcb0b1190407",
   "metadata": {},
   "outputs": [],
   "source": [
    "stations_src.columns = stations_src.columns.str.lower()\n",
    "stations_src.country = stations_src.country.str.strip()"
   ]
  },
  {
   "cell_type": "code",
   "execution_count": null,
   "id": "97261ce5-4abc-4b73-98d1-ab03af473fca",
   "metadata": {},
   "outputs": [],
   "source": [
    "stations_src.loc[stations_src[\"country\"] == \"Cook Is.\", \"country\"] = 'Cook Islands'\n",
    "stations_src.loc[stations_src[\"station_name\"].str.contains(', PM'), \"country\"] = 'Panama'"
   ]
  },
  {
   "cell_type": "markdown",
   "id": "502795cd-2b32-4423-a6da-0ee926bdc9c0",
   "metadata": {},
   "source": [
    "#### Eliminate any stations that stopped having data before Survivor first filmed and that aren't in Survivor countries"
   ]
  },
  {
   "cell_type": "code",
   "execution_count": 261,
   "id": "bc55ed08-2303-4fbb-b21f-005a040ded4f",
   "metadata": {},
   "outputs": [],
   "source": [
    "stations_gdf = stations_src.query(f'data_end_date >= 952291200000 and country.isin({locations_countries})').copy()"
   ]
  },
  {
   "cell_type": "code",
   "execution_count": 262,
   "id": "574d17db-2d69-4aa0-b2ce-fc5fa97c5b2b",
   "metadata": {},
   "outputs": [],
   "source": [
    "stations_gdf['data_begin'] = pd.to_datetime(stations_gdf['data_begin_date'], unit='ms').dt.strftime('%Y-%m-%d')\n",
    "stations_gdf['data_end'] = pd.to_datetime(stations_gdf['data_end_date'], unit='ms').dt.strftime('%Y-%m-%d')"
   ]
  },
  {
   "cell_type": "markdown",
   "id": "e35f667d-6be5-46d4-9b4d-378de9d8ba8d",
   "metadata": {},
   "source": [
    "#### Which countries are missing? "
   ]
  },
  {
   "cell_type": "code",
   "execution_count": 264,
   "id": "011ee80b-100a-4454-9a1c-d509ae39d55e",
   "metadata": {},
   "outputs": [
    {
     "name": "stdout",
     "output_type": "stream",
     "text": [
      "Which seasons don't have a country with a station? {'Samoa', 'Panama', 'French Polynesia'}\n"
     ]
    }
   ],
   "source": [
    "# Convert lists to sets\n",
    "locations_set = set(locations_countries)\n",
    "stations_set = set(stations_countries)\n",
    "\n",
    "# Find items in locations_countries that are not in stations_countries\n",
    "missing_from_stations = locations_set - stations_set\n",
    "\n",
    "# Find items in stations_countries that are not in locations_countries\n",
    "missing_from_locations = stations_set - locations_set\n",
    "\n",
    "print(\"Which seasons don't have a country with a station?\", missing_from_stations)"
   ]
  },
  {
   "cell_type": "code",
   "execution_count": null,
   "id": "1985d4c6-84d8-4791-9170-2da1dc44d37f",
   "metadata": {},
   "outputs": [],
   "source": []
  },
  {
   "cell_type": "code",
   "execution_count": null,
   "id": "526cf983-a74a-491c-88b2-5bcb60ae0c1b",
   "metadata": {},
   "outputs": [],
   "source": []
  },
  {
   "cell_type": "code",
   "execution_count": null,
   "id": "c16e16f8-3586-4741-ac3c-2670d7d46157",
   "metadata": {},
   "outputs": [],
   "source": []
  },
  {
   "cell_type": "markdown",
   "id": "896f007f-16f4-4860-b3d7-4452a31953e8",
   "metadata": {},
   "source": [
    "---"
   ]
  },
  {
   "cell_type": "markdown",
   "id": "26b8a7e3-9fdb-4fc5-9729-03b1cda7cb4f",
   "metadata": {},
   "source": [
    "#### Find missing stations"
   ]
  },
  {
   "cell_type": "code",
   "execution_count": 250,
   "id": "9256f4eb-a41a-44f8-a8bd-158f1b343581",
   "metadata": {},
   "outputs": [],
   "source": [
    "missing_stations_seasons = [{\n",
    "    'season_country': 'Samoa',\n",
    "    'station_id': 'GHCND:AQW00061705',\n",
    "    'station_name': 'PAGO PAGO WEATHER SERVICE OFFICE AIRPORT, US',\n",
    "    'station_url': 'https://www.ncdc.noaa.gov/cdo-web/datasets/GHCND/stations/GHCND:AQW00061705/detail',    \n",
    "}]"
   ]
  },
  {
   "cell_type": "code",
   "execution_count": 253,
   "id": "c4f6ab6b-abd7-429a-b4b9-579363b5fcc0",
   "metadata": {},
   "outputs": [
    {
     "data": {
      "text/html": [
       "<div>\n",
       "<style scoped>\n",
       "    .dataframe tbody tr th:only-of-type {\n",
       "        vertical-align: middle;\n",
       "    }\n",
       "\n",
       "    .dataframe tbody tr th {\n",
       "        vertical-align: top;\n",
       "    }\n",
       "\n",
       "    .dataframe thead th {\n",
       "        text-align: right;\n",
       "    }\n",
       "</style>\n",
       "<table border=\"1\" class=\"dataframe\">\n",
       "  <thead>\n",
       "    <tr style=\"text-align: right;\">\n",
       "      <th></th>\n",
       "      <th>season_country</th>\n",
       "      <th>station_id</th>\n",
       "      <th>station_name</th>\n",
       "      <th>station_url</th>\n",
       "    </tr>\n",
       "  </thead>\n",
       "  <tbody>\n",
       "    <tr>\n",
       "      <th>0</th>\n",
       "      <td>Samoa</td>\n",
       "      <td>GHCND:AQW00061705</td>\n",
       "      <td>PAGO PAGO WEATHER SERVICE OFFICE AIRPORT, US</td>\n",
       "      <td>https://www.ncdc.noaa.gov/cdo-web/datasets/GHC...</td>\n",
       "    </tr>\n",
       "  </tbody>\n",
       "</table>\n",
       "</div>"
      ],
      "text/plain": [
       "  season_country         station_id  \\\n",
       "0          Samoa  GHCND:AQW00061705   \n",
       "\n",
       "                                   station_name  \\\n",
       "0  PAGO PAGO WEATHER SERVICE OFFICE AIRPORT, US   \n",
       "\n",
       "                                         station_url  \n",
       "0  https://www.ncdc.noaa.gov/cdo-web/datasets/GHC...  "
      ]
     },
     "execution_count": 253,
     "metadata": {},
     "output_type": "execute_result"
    }
   ],
   "source": [
    "missing_stations_seasons_df = pd.DataFrame(stations_seasons)\n",
    "missing_stations_seasons_df"
   ]
  },
  {
   "cell_type": "code",
   "execution_count": null,
   "id": "c175ced8-2bb8-47b2-8868-e443242ef37a",
   "metadata": {},
   "outputs": [],
   "source": []
  }
 ],
 "metadata": {
  "kernelspec": {
   "display_name": "Python 3 (ipykernel)",
   "language": "python",
   "name": "python3"
  },
  "language_info": {
   "codemirror_mode": {
    "name": "ipython",
    "version": 3
   },
   "file_extension": ".py",
   "mimetype": "text/x-python",
   "name": "python",
   "nbconvert_exporter": "python",
   "pygments_lexer": "ipython3",
   "version": "3.9.15"
  }
 },
 "nbformat": 4,
 "nbformat_minor": 5
}
